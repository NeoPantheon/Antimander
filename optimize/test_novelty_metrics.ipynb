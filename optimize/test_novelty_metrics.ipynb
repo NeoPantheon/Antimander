{
 "cells": [
  {
   "cell_type": "code",
   "execution_count": 8,
   "metadata": {
    "scrolled": false
   },
   "outputs": [],
   "source": [
    "import sys, random, time\n",
    "import numpy as np\n",
    "\n",
    "import pyximport\n",
    "pyximport.install(setup_args={'include_dirs': np.get_include()})\n",
    "\n",
    "from state import State\n",
    "import districts\n",
    "import mutation\n",
    "from constraints import fix_pop_equality\n",
    "import metrics"
   ]
  },
  {
   "cell_type": "code",
   "execution_count": 9,
   "metadata": {
    "collapsed": true
   },
   "outputs": [],
   "source": [
    "n_districts = 5\n",
    "n_tiles = 300\n",
    "state = State.makeRandom(n_tiles, seed=0)"
   ]
  },
  {
   "cell_type": "code",
   "execution_count": 10,
   "metadata": {
    "collapsed": true
   },
   "outputs": [],
   "source": [
    "seeds = []\n",
    "while len(seeds) < 100:\n",
    "    try:\n",
    "        p = districts.make_random(state, n_districts)\n",
    "        fix_pop_equality(state, p, n_districts, tolerance=.15, max_iters=600)\n",
    "        seeds.append(p)\n",
    "    except ValueError as e:\n",
    "        pass\n",
    "    except StopIteration as e:\n",
    "        pass"
   ]
  },
  {
   "cell_type": "code",
   "execution_count": 12,
   "metadata": {},
   "outputs": [
    {
     "name": "stdout",
     "output_type": "stream",
     "text": [
      "(100, 300)\n"
     ]
    }
   ],
   "source": [
    "X = np.stack(seeds)\n",
    "print(X.shape)"
   ]
  },
  {
   "cell_type": "code",
   "execution_count": 13,
   "metadata": {
    "collapsed": true
   },
   "outputs": [],
   "source": [
    "from sklearn.decomposition import PCA"
   ]
  },
  {
   "cell_type": "code",
   "execution_count": 18,
   "metadata": {},
   "outputs": [
    {
     "name": "stdout",
     "output_type": "stream",
     "text": [
      "0.006115913391113281\n"
     ]
    }
   ],
   "source": [
    "pca = PCA(n_components=6)\n",
    "start = time.time()\n",
    "pca.fit(X)\n",
    "print(time.time()-start)"
   ]
  },
  {
   "cell_type": "code",
   "execution_count": 19,
   "metadata": {},
   "outputs": [
    {
     "name": "stdout",
     "output_type": "stream",
     "text": [
      "[0.18690762 0.15928104 0.08869646 0.07361139 0.05174811 0.03368554]\n"
     ]
    }
   ],
   "source": [
    " print(pca.explained_variance_ratio_)"
   ]
  },
  {
   "cell_type": "code",
   "execution_count": null,
   "metadata": {
    "collapsed": true
   },
   "outputs": [],
   "source": []
  }
 ],
 "metadata": {
  "kernelspec": {
   "display_name": "Python 3",
   "language": "python",
   "name": "python3"
  },
  "language_info": {
   "codemirror_mode": {
    "name": "ipython",
    "version": 3
   },
   "file_extension": ".py",
   "mimetype": "text/x-python",
   "name": "python",
   "nbconvert_exporter": "python",
   "pygments_lexer": "ipython3",
   "version": "3.5.4"
  }
 },
 "nbformat": 4,
 "nbformat_minor": 2
}
