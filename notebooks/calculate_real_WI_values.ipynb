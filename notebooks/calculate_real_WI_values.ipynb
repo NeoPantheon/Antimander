{
 "cells": [
  {
   "cell_type": "code",
   "execution_count": 1,
   "metadata": {},
   "outputs": [],
   "source": [
    "%matplotlib inline\n",
    "import os, sys, json\n",
    "import numpy as np\n",
    "import matplotlib as plt"
   ]
  },
  {
   "cell_type": "code",
   "execution_count": 2,
   "metadata": {},
   "outputs": [],
   "source": [
    "sys.path.append(os.path.abspath('../optimize'))\n",
    "from src.state import State\n",
    "from src import metrics"
   ]
  },
  {
   "cell_type": "code",
   "execution_count": 3,
   "metadata": {},
   "outputs": [],
   "source": [
    "with open('../optimize/data/WI.json', 'r') as file:\n",
    "    state_data = json.load(file)\n",
    "    real_districts = np.array(state_data['real_districts'], dtype='i') - 1 # Default is 1-indexed.\n",
    "    state = State(state_data)"
   ]
  },
  {
   "cell_type": "code",
   "execution_count": 4,
   "metadata": {},
   "outputs": [
    {
     "name": "stdout",
     "output_type": "stream",
     "text": [
      "convex_hull      0.5525354684638849\n",
      "equality         0.0\n",
      "polsby_popper    0.5523595809936523\n",
      "competitiveness  0.5316499471664429\n",
      "efficiency_gap   0.08462689816951752\n",
      "reock            0.6019959610853222\n",
      "center_distance  0.018736084923148155\n"
     ]
    }
   ],
   "source": [
    "real_values = {}\n",
    "metrics_names = [\n",
    "    'convex_hull',\n",
    "    'equality',\n",
    "    'polsby_popper',\n",
    "    'competitiveness',\n",
    "    'efficiency_gap',\n",
    "    'reock',\n",
    "    'center_distance',\n",
    "]\n",
    "for name in metrics_names:\n",
    "    real_values[name] = getattr(metrics, name)(state, real_districts, 8)\n",
    "    print(name, ' '*(15-len(name)), real_values[name])"
   ]
  }
 ],
 "metadata": {
  "kernelspec": {
   "display_name": "Python 3",
   "language": "python",
   "name": "python3"
  },
  "language_info": {
   "codemirror_mode": {
    "name": "ipython",
    "version": 3
   },
   "file_extension": ".py",
   "mimetype": "text/x-python",
   "name": "python",
   "nbconvert_exporter": "python",
   "pygments_lexer": "ipython3",
   "version": "3.6.9"
  }
 },
 "nbformat": 4,
 "nbformat_minor": 2
}
